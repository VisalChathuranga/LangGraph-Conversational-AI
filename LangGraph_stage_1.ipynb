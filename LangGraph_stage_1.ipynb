{
  "nbformat": 4,
  "nbformat_minor": 0,
  "metadata": {
    "colab": {
      "provenance": []
    },
    "kernelspec": {
      "name": "python3",
      "display_name": "Python 3"
    },
    "language_info": {
      "name": "python"
    }
  },
  "cells": [
    {
      "cell_type": "code",
      "execution_count": null,
      "metadata": {
        "colab": {
          "base_uri": "https://localhost:8080/"
        },
        "id": "MYg3C1W9AZFN",
        "outputId": "4db98386-abc3-498d-af66-3d05955eeebd"
      },
      "outputs": [
        {
          "output_type": "stream",
          "name": "stdout",
          "text": [
            "\u001b[?25l     \u001b[90m━━━━━━━━━━━━━━━━━━━━━━━━━━━━━━━━━━━━━━━━\u001b[0m \u001b[32m0.0/43.7 kB\u001b[0m \u001b[31m?\u001b[0m eta \u001b[36m-:--:--\u001b[0m\r\u001b[2K     \u001b[90m━━━━━━━━━━━━━━━━━━━━━━━━━━━━━━━━━━━━━━━━\u001b[0m \u001b[32m43.7/43.7 kB\u001b[0m \u001b[31m1.5 MB/s\u001b[0m eta \u001b[36m0:00:00\u001b[0m\n",
            "\u001b[2K   \u001b[90m━━━━━━━━━━━━━━━━━━━━━━━━━━━━━━━━━━━━━━━━\u001b[0m \u001b[32m152.4/152.4 kB\u001b[0m \u001b[31m3.6 MB/s\u001b[0m eta \u001b[36m0:00:00\u001b[0m\n",
            "\u001b[2K   \u001b[90m━━━━━━━━━━━━━━━━━━━━━━━━━━━━━━━━━━━━━━━━\u001b[0m \u001b[32m44.2/44.2 kB\u001b[0m \u001b[31m1.5 MB/s\u001b[0m eta \u001b[36m0:00:00\u001b[0m\n",
            "\u001b[2K   \u001b[90m━━━━━━━━━━━━━━━━━━━━━━━━━━━━━━━━━━━━━━━━\u001b[0m \u001b[32m50.0/50.0 kB\u001b[0m \u001b[31m2.2 MB/s\u001b[0m eta \u001b[36m0:00:00\u001b[0m\n",
            "\u001b[2K   \u001b[90m━━━━━━━━━━━━━━━━━━━━━━━━━━━━━━━━━━━━━━━━\u001b[0m \u001b[32m216.5/216.5 kB\u001b[0m \u001b[31m16.1 MB/s\u001b[0m eta \u001b[36m0:00:00\u001b[0m\n",
            "\u001b[?25h"
          ]
        }
      ],
      "source": [
        " !pip install langgraph -q"
      ]
    },
    {
      "cell_type": "markdown",
      "source": [
        "# Simple Graph"
      ],
      "metadata": {
        "id": "bp1b93iCA08v"
      }
    },
    {
      "cell_type": "code",
      "source": [
        "from typing import TypedDict"
      ],
      "metadata": {
        "id": "hbFyTUVHAvV8"
      },
      "execution_count": null,
      "outputs": []
    },
    {
      "cell_type": "code",
      "source": [
        "from os import name\n",
        "class AgentState(TypedDict):\n",
        "  name: str\n",
        "  age: int\n",
        "  message: str"
      ],
      "metadata": {
        "id": "Oyvo4bMyBgMu"
      },
      "execution_count": null,
      "outputs": []
    },
    {
      "cell_type": "code",
      "source": [
        "def hello(state : AgentState) -> AgentState:\n",
        "  state['message'] = f\"Hello {state['name']}! Your age is {state['age']}\"\n",
        "  return state"
      ],
      "metadata": {
        "id": "WBIbqkaRA-u6"
      },
      "execution_count": null,
      "outputs": []
    },
    {
      "cell_type": "code",
      "source": [
        "from langgraph.graph import StateGraph, START, END"
      ],
      "metadata": {
        "id": "Yzi4Urh4DZm-"
      },
      "execution_count": null,
      "outputs": []
    },
    {
      "cell_type": "code",
      "source": [
        "workflow = StateGraph(AgentState)\n",
        "\n",
        "workflow.add_node(\"hello\",hello)\n",
        "\n",
        "workflow.add_edge(START, \"hello\")\n",
        "workflow.add_edge(\"hello\", END)\n",
        "\n",
        "app = workflow.compile()"
      ],
      "metadata": {
        "id": "ffG_WD0CG8Y3"
      },
      "execution_count": null,
      "outputs": []
    },
    {
      "cell_type": "code",
      "source": [
        "from IPython.display import Image, display\n",
        "display(Image(app.get_graph().draw_mermaid_png()))"
      ],
      "metadata": {
        "colab": {
          "base_uri": "https://localhost:8080/",
          "height": 251
        },
        "id": "D80hPP-5Iqiw",
        "outputId": "b3cf82e2-f86d-4637-8d44-60c61a74c82c"
      },
      "execution_count": null,
      "outputs": [
        {
          "output_type": "display_data",
          "data": {
            "image/png": "[encoded data removed]",
            "text/plain": [
              "<IPython.core.display.Image object>"
            ]
          },
          "metadata": {}
        }
      ]
    },
    {
      "cell_type": "code",
      "source": [
        "result = app.invoke({\"name\":\"Visal\", \"age\":25})\n",
        "print(result['message'])"
      ],
      "metadata": {
        "colab": {
          "base_uri": "https://localhost:8080/"
        },
        "id": "A6mR-fv1Mr62",
        "outputId": "6bfad78c-e558-46af-da15-042d11f9765e"
      },
      "execution_count": null,
      "outputs": [
        {
          "output_type": "stream",
          "name": "stdout",
          "text": [
            "Hello Visal! Your age is 25\n"
          ]
        }
      ]
    },
    {
      "cell_type": "markdown",
      "source": [
        "# Sequential Graph"
      ],
      "metadata": {
        "id": "9RHqame4Svzk"
      }
    },
    {
      "cell_type": "code",
      "source": [
        "from os import name\n",
        "class AgentState(TypedDict):\n",
        "  name: str\n",
        "  age: int\n",
        "  message: str"
      ],
      "metadata": {
        "id": "Y_0-hmXpS4jq"
      },
      "execution_count": null,
      "outputs": []
    },
    {
      "cell_type": "code",
      "source": [
        "def hello_name(state : AgentState) -> AgentState:\n",
        "  state['message'] = f\"Hello {state['name']}\"\n",
        "  return state\n",
        "\n",
        "def hello_age(state : AgentState) -> AgentState:\n",
        "  state['message'] = f\"Hello {state['message']}! Your age is {state['age']}\"\n",
        "  return state"
      ],
      "metadata": {
        "id": "533lWHuHS4tD"
      },
      "execution_count": null,
      "outputs": []
    },
    {
      "cell_type": "code",
      "source": [
        "workflow = StateGraph(AgentState)\n",
        "\n",
        "workflow.add_node(\"hello_name\",hello_name)\n",
        "workflow.add_node(\"hello_age\",hello_age)\n",
        "\n",
        "workflow.add_edge(START, \"hello_name\")\n",
        "workflow.add_edge(\"hello_name\", \"hello_age\")\n",
        "workflow.add_edge(\"hello_age\", END)\n",
        "\n",
        "app = workflow.compile()"
      ],
      "metadata": {
        "id": "xBuDlAxyS4yK"
      },
      "execution_count": null,
      "outputs": []
    },
    {
      "cell_type": "code",
      "source": [
        "from IPython.display import Image, display\n",
        "display(Image(app.get_graph().draw_mermaid_png()))"
      ],
      "metadata": {
        "colab": {
          "base_uri": "https://localhost:8080/",
          "height": 350
        },
        "id": "sNo_ZX4bS42h",
        "outputId": "dfdd42fb-fe6c-4bf9-8a67-03e9d1979e61"
      },
      "execution_count": null,
      "outputs": [
        {
          "output_type": "display_data",
          "data": {
            "image/png": "[encoded data removed]",
            "text/plain": [
              "<IPython.core.display.Image object>"
            ]
          },
          "metadata": {}
        }
      ]
    },
    {
      "cell_type": "code",
      "source": [
        "result = app.invoke({\"name\":\"Visal\", \"age\":25})\n",
        "print(result['message'])"
      ],
      "metadata": {
        "colab": {
          "base_uri": "https://localhost:8080/"
        },
        "id": "LpdXT1skT1oe",
        "outputId": "cb70015e-da32-47b2-b41a-9b3eb6b21a37"
      },
      "execution_count": null,
      "outputs": [
        {
          "output_type": "stream",
          "name": "stdout",
          "text": [
            "Hello Hello Visal! Your age is 25\n"
          ]
        }
      ]
    },
    {
      "cell_type": "markdown",
      "source": [
        "# Conditional Graph"
      ],
      "metadata": {
        "id": "pQLTtNpcUBxL"
      }
    },
    {
      "cell_type": "code",
      "source": [
        "from os import name\n",
        "class AgentState(TypedDict):\n",
        "  num1 : int\n",
        "  num2 : int\n",
        "  operation : str\n",
        "  result : int"
      ],
      "metadata": {
        "id": "fH5fyM0pUFtl"
      },
      "execution_count": null,
      "outputs": []
    },
    {
      "cell_type": "code",
      "source": [
        "def addition(state : AgentState) -> AgentState:\n",
        "  state['result'] = state[\"num1\"] + state[\"num2\"]\n",
        "  return state\n",
        "\n",
        "def subtraction(state : AgentState) -> AgentState:\n",
        "  state['result'] = state[\"num1\"] - state[\"num2\"]\n",
        "  return state\n",
        "\n",
        "def multiplication(state : AgentState) -> AgentState:\n",
        "  state['result'] = state[\"num1\"] * state[\"num2\"]\n",
        "  return state\n",
        "\n",
        "def division(state : AgentState) -> AgentState:\n",
        "  state['result'] = state[\"num1\"] / state[\"num2\"]\n",
        "  return state\n",
        "\n",
        "def invalid(state : AgentState) -> AgentState:\n",
        "  state['result'] = f\"Invalid Operation, Please Enter the Valid Operation\"\n",
        "  return state\n",
        "\n",
        "def decision_node(state : AgentState) -> AgentState:\n",
        "  if state[\"operation\"] == \"+\":\n",
        "    return \"addition_operation\"\n",
        "  elif state[\"operation\"] == \"-\":\n",
        "    return \"subtraction_operation\"\n",
        "  elif state[\"operation\"] == \"*\":\n",
        "    return \"multiplication_operation\"\n",
        "  elif state[\"operation\"] == \"/\":\n",
        "    return \"division_operation\"\n",
        "  else:\n",
        "    return \"invalid_operation\""
      ],
      "metadata": {
        "id": "6wWtkk7XUv1V"
      },
      "execution_count": null,
      "outputs": []
    },
    {
      "cell_type": "code",
      "source": [
        "from langgraph.graph import StateGraph, START, END"
      ],
      "metadata": {
        "id": "NoihQQFeZnhy"
      },
      "execution_count": null,
      "outputs": []
    },
    {
      "cell_type": "code",
      "source": [
        "workflow = StateGraph(AgentState)\n",
        "\n",
        "workflow.add_node(\"addition\",addition)\n",
        "workflow.add_node(\"subtraction\",subtraction)\n",
        "workflow.add_node(\"multiplication\",multiplication)\n",
        "workflow.add_node(\"division\",division)\n",
        "workflow.add_node(\"invalid\",invalid)\n",
        "workflow.add_node(\"router\",lambda state:state)\n",
        "\n",
        "workflow.add_edge(START, \"router\")\n",
        "workflow.add_conditional_edges(\n",
        "    \"router\",\n",
        "    decision_node,\n",
        "    {\n",
        "        \"addition_operation\": \"addition\",\n",
        "        \"subtraction_operation\": \"subtraction\",\n",
        "        \"multiplication_operation\": \"multiplication\",\n",
        "        \"division_operation\": \"division\",\n",
        "        \"invalid_operation\": \"invalid\"\n",
        "    }\n",
        ")\n",
        "workflow.add_edge(\"addition\", END)\n",
        "workflow.add_edge(\"subtraction\", END)\n",
        "workflow.add_edge(\"multiplication\", END)\n",
        "workflow.add_edge(\"division\", END)\n",
        "workflow.add_edge(\"invalid\", END)\n",
        "\n",
        "app = workflow.compile()"
      ],
      "metadata": {
        "id": "rgLbeLaCawg8"
      },
      "execution_count": null,
      "outputs": []
    },
    {
      "cell_type": "code",
      "source": [
        "from IPython.display import Image, display\n",
        "display(Image(app.get_graph().draw_mermaid_png()))"
      ],
      "metadata": {
        "colab": {
          "base_uri": "https://localhost:8080/",
          "height": 374
        },
        "id": "_nzzr2nNfvhU",
        "outputId": "ab5a7483-635b-4413-e4f7-2fb371385db2"
      },
      "execution_count": null,
      "outputs": [
        {
          "output_type": "display_data",
          "data": {
            "image/png": "[encoded data removed]",
            "text/plain": [
              "<IPython.core.display.Image object>"
            ]
          },
          "metadata": {}
        }
      ]
    },
    {
      "cell_type": "code",
      "source": [
        "result = app.invoke({\"num1\":34, \"num2\":30, \"operation\":\"*\"})\n",
        "print(result['result'])"
      ],
      "metadata": {
        "colab": {
          "base_uri": "https://localhost:8080/"
        },
        "id": "2pJDNCQsjYp-",
        "outputId": "58a22397-b08f-4300-da68-c94fb2b562f0"
      },
      "execution_count": null,
      "outputs": [
        {
          "output_type": "stream",
          "name": "stdout",
          "text": [
            "1020\n"
          ]
        }
      ]
    }
  ]
}