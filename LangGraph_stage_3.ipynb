{
  "nbformat": 4,
  "nbformat_minor": 0,
  "metadata": {
    "colab": {
      "provenance": []
    },
    "kernelspec": {
      "name": "python3",
      "display_name": "Python 3"
    },
    "language_info": {
      "name": "python"
    }
  },
  "cells": [
    {
      "cell_type": "code",
      "execution_count": 4,
      "metadata": {
        "colab": {
          "base_uri": "https://localhost:8080/"
        },
        "id": "MNsUG0UEaG4o",
        "outputId": "33dbfd78-1dfc-45f7-bc76-96061abfbdd0"
      },
      "outputs": [
        {
          "output_type": "stream",
          "name": "stdout",
          "text": [
            "\u001b[2K     \u001b[90m━━━━━━━━━━━━━━━━━━━━━━━━━━━━━━━━━━━━━━━━\u001b[0m \u001b[32m43.7/43.7 kB\u001b[0m \u001b[31m1.3 MB/s\u001b[0m eta \u001b[36m0:00:00\u001b[0m\n",
            "\u001b[2K   \u001b[90m━━━━━━━━━━━━━━━━━━━━━━━━━━━━━━━━━━━━━━━━\u001b[0m \u001b[32m152.4/152.4 kB\u001b[0m \u001b[31m4.0 MB/s\u001b[0m eta \u001b[36m0:00:00\u001b[0m\n",
            "\u001b[2K   \u001b[90m━━━━━━━━━━━━━━━━━━━━━━━━━━━━━━━━━━━━━━━━\u001b[0m \u001b[32m44.2/44.2 kB\u001b[0m \u001b[31m3.3 MB/s\u001b[0m eta \u001b[36m0:00:00\u001b[0m\n",
            "\u001b[2K   \u001b[90m━━━━━━━━━━━━━━━━━━━━━━━━━━━━━━━━━━━━━━━━\u001b[0m \u001b[32m50.0/50.0 kB\u001b[0m \u001b[31m4.4 MB/s\u001b[0m eta \u001b[36m0:00:00\u001b[0m\n",
            "\u001b[2K   \u001b[90m━━━━━━━━━━━━━━━━━━━━━━━━━━━━━━━━━━━━━━━━\u001b[0m \u001b[32m216.5/216.5 kB\u001b[0m \u001b[31m14.9 MB/s\u001b[0m eta \u001b[36m0:00:00\u001b[0m\n",
            "\u001b[?25h"
          ]
        }
      ],
      "source": [
        "!pip install langchain==0.3.24 -q\n",
        "!pip install -q -U google-generativeai langchain-google-genai\n",
        "!pip install langchain-community -q\n",
        "!pip install langgraph -q"
      ]
    },
    {
      "cell_type": "code",
      "source": [
        "!pip install duckduckgo-search -qU\n",
        "!pip install pyowm -qU"
      ],
      "metadata": {
        "colab": {
          "base_uri": "https://localhost:8080/"
        },
        "id": "8gCgHk9l14IG",
        "outputId": "ceefb179-fe3e-492f-d821-902a72741155"
      },
      "execution_count": 48,
      "outputs": [
        {
          "output_type": "stream",
          "name": "stdout",
          "text": [
            "\u001b[2K   \u001b[90m━━━━━━━━━━━━━━━━━━━━━━━━━━━━━━━━━━━━━━━━\u001b[0m \u001b[32m3.3/3.3 MB\u001b[0m \u001b[31m29.1 MB/s\u001b[0m eta \u001b[36m0:00:00\u001b[0m\n",
            "\u001b[2K   \u001b[90m━━━━━━━━━━━━━━━━━━━━━━━━━━━━━━━━━━━━━━━━\u001b[0m \u001b[32m4.5/4.5 MB\u001b[0m \u001b[31m31.0 MB/s\u001b[0m eta \u001b[36m0:00:00\u001b[0m\n",
            "\u001b[?25h"
          ]
        }
      ]
    },
    {
      "cell_type": "code",
      "source": [
        "from typing import Annotated, Sequence, TypedDict\n",
        "from langchain_core.messages import BaseMessage, ToolMessage, SystemMessage\n",
        "from langchain_google_genai import ChatGoogleGenerativeAI\n",
        "from langchain_core.tools import tool\n",
        "from langgraph.graph.message import add_messages\n",
        "from langgraph.graph import StateGraph, START, END\n",
        "from langgraph.prebuilt import ToolNode"
      ],
      "metadata": {
        "id": "V7oT4U0Csf_r"
      },
      "execution_count": 34,
      "outputs": []
    },
    {
      "cell_type": "code",
      "source": [
        "class AgentState(TypedDict):\n",
        "    messages: Annotated[Sequence[BaseMessage], add_messages]"
      ],
      "metadata": {
        "id": "6wHGON4zsqKU"
      },
      "execution_count": 35,
      "outputs": []
    },
    {
      "cell_type": "code",
      "source": [
        "import os\n",
        "from google.colab import userdata\n",
        "\n",
        "google_api_key = userdata.get('GEMINI_API_KEY')"
      ],
      "metadata": {
        "id": "ujrkI_JBtDbD"
      },
      "execution_count": 36,
      "outputs": []
    },
    {
      "cell_type": "code",
      "source": [
        "llm = ChatGoogleGenerativeAI(\n",
        "    model=\"gemini-2.5-flash-preview-05-20\",\n",
        "    google_api_key=google_api_key,\n",
        "    temperature=0.9\n",
        ")"
      ],
      "metadata": {
        "id": "FSpNjmXCt3-K"
      },
      "execution_count": 37,
      "outputs": []
    },
    {
      "cell_type": "code",
      "source": [
        "@tool\n",
        "def addtion(a: int, b:int):\n",
        "    \"\"\"This is the addition function that adds 2 numbers\"\"\"\n",
        "    return a + b\n",
        "\n",
        "@tool\n",
        "def subtraction(a: int, b: int):\n",
        "    \"\"\"This is the subtraction function that subtract 2 numbers\"\"\"\n",
        "    return a - b\n",
        "\n",
        "@tool\n",
        "def multiplication(a: int, b: int):\n",
        "    \"\"\"This is the multiplication function that multiply 2 numbers\"\"\"\n",
        "    return a * b\n",
        "\n",
        "@tool\n",
        "def division(a: int, b: int):\n",
        "    \"\"\"This is the division function that divide 2 numbers\"\"\"\n",
        "    return a / b"
      ],
      "metadata": {
        "id": "CyAQyamKuT5D"
      },
      "execution_count": 38,
      "outputs": []
    },
    {
      "cell_type": "code",
      "source": [
        "from langchain_community.tools import DuckDuckGoSearchRun\n",
        "from langchain_community.utilities import OpenWeatherMapAPIWrapper\n",
        "from langchain.agents import load_tools\n",
        "\n",
        "os.environ[\"OPENWEATHERMAP_API_KEY\"] = userdata.get('OPENWEATHERMAP_API_KEY')\n",
        "\n",
        "# Initialize DuckDuckGo search tool\n",
        "search_tool = DuckDuckGoSearchRun()\n",
        "\n",
        "# Initialize OpenWeatherMap tool\n",
        "weather = OpenWeatherMapAPIWrapper()\n",
        "\n",
        "weather_tool = load_tools([\"openweathermap-api\"], llm)[0]"
      ],
      "metadata": {
        "id": "8cEet4Ig2asW"
      },
      "execution_count": 49,
      "outputs": []
    },
    {
      "cell_type": "code",
      "source": [
        "tools = [addtion, subtraction, multiplication, division, search_tool, weather_tool]"
      ],
      "metadata": {
        "id": "fPNqN5PNuT8B"
      },
      "execution_count": 50,
      "outputs": []
    },
    {
      "cell_type": "code",
      "source": [
        "llm_with_tools = llm.bind_tools(tools)"
      ],
      "metadata": {
        "id": "9l9XJfCfu4VL"
      },
      "execution_count": 51,
      "outputs": []
    },
    {
      "cell_type": "code",
      "source": [
        "def llm_call(state:AgentState) -> AgentState:\n",
        "    system_prompt = SystemMessage(content=\n",
        "        \"You are an intelligent AI assistant, please answer my query.\"\n",
        "    )\n",
        "    response = llm_with_tools.invoke([system_prompt] + state[\"messages\"])\n",
        "    return {\"messages\": [response]}\n",
        "\n",
        "\n",
        "def decision(state: AgentState):\n",
        "    messages = state[\"messages\"]\n",
        "    last_message = messages[-1] #seen within the last message\n",
        "    if not last_message.tool_calls:\n",
        "        return \"end\"\n",
        "    else:\n",
        "        return \"continue\""
      ],
      "metadata": {
        "id": "82c2qTWvvFfE"
      },
      "execution_count": 52,
      "outputs": []
    },
    {
      "cell_type": "code",
      "source": [
        "workflow = StateGraph(AgentState)\n",
        "\n",
        "workflow.add_node(\"agent\", llm_call)\n",
        "tool_node = ToolNode(tools=tools)\n",
        "workflow.add_node(\"tools\", tool_node)\n",
        "\n",
        "workflow.set_entry_point(\"agent\")\n",
        "workflow.add_conditional_edges(\n",
        "    \"agent\",\n",
        "    decision,\n",
        "    {\n",
        "        \"continue\": \"tools\",\n",
        "        \"end\": END,\n",
        "    },\n",
        ")\n",
        "workflow.add_edge(\"tools\", \"agent\")\n",
        "\n",
        "app = workflow.compile()"
      ],
      "metadata": {
        "id": "lkSidN3-vo-a"
      },
      "execution_count": 53,
      "outputs": []
    },
    {
      "cell_type": "code",
      "source": [
        "from IPython.display import Image, display\n",
        "display(Image(app.get_graph().draw_mermaid_png()))"
      ],
      "metadata": {
        "colab": {
          "base_uri": "https://localhost:8080/",
          "height": 290
        },
        "id": "HP6iDaTJxDfs",
        "outputId": "88c2ad17-a06a-4a50-815b-914b3968fbd2"
      },
      "execution_count": 54,
      "outputs": [
        {
          "output_type": "display_data",
          "data": {
            "image/png": "[encoded data removed]",
            "text/plain": [
              "<IPython.core.display.Image object>"
            ]
          },
          "metadata": {}
        }
      ]
    },
    {
      "cell_type": "code",
      "source": [
        "def print_stream(stream):\n",
        "    for s in stream:\n",
        "        message = s[\"messages\"][-1]\n",
        "        if isinstance(message, tuple):\n",
        "            print(message)\n",
        "        else:\n",
        "            message.pretty_print()"
      ],
      "metadata": {
        "id": "2TEL99_rx4iy"
      },
      "execution_count": 55,
      "outputs": []
    },
    {
      "cell_type": "code",
      "source": [
        "inputs = {\"messages\": [(\"user\", \"Add 40 and 12.\")]}\n",
        "print_stream(app.stream(inputs, stream_mode=\"values\"))"
      ],
      "metadata": {
        "colab": {
          "base_uri": "https://localhost:8080/"
        },
        "id": "NjGkRoIhx6E3",
        "outputId": "a59dc1bf-5d38-40ea-aad4-660fc937e956"
      },
      "execution_count": 56,
      "outputs": [
        {
          "output_type": "stream",
          "name": "stdout",
          "text": [
            "================================\u001b[1m Human Message \u001b[0m=================================\n",
            "\n",
            "Add 40 and 12.\n",
            "==================================\u001b[1m Ai Message \u001b[0m==================================\n",
            "Tool Calls:\n",
            "  addtion (1863225a-3c57-4a34-bb50-95f8da4c9dd6)\n",
            " Call ID: 1863225a-3c57-4a34-bb50-95f8da4c9dd6\n",
            "  Args:\n",
            "    a: 40.0\n",
            "    b: 12.0\n",
            "=================================\u001b[1m Tool Message \u001b[0m=================================\n",
            "Name: addtion\n",
            "\n",
            "52\n",
            "==================================\u001b[1m Ai Message \u001b[0m==================================\n",
            "\n",
            "The sum of 40 and 12 is 52.\n"
          ]
        }
      ]
    },
    {
      "cell_type": "code",
      "source": [
        "inputs = {\"messages\": [(\"user\", \"Add 40 and 12. Then multiply the result by 6.\")]}\n",
        "print_stream(app.stream(inputs, stream_mode=\"values\"))"
      ],
      "metadata": {
        "colab": {
          "base_uri": "https://localhost:8080/"
        },
        "id": "E1dMD-Ix0cEx",
        "outputId": "0efce3b5-571f-4495-884a-f0b4ed0e6298"
      },
      "execution_count": 57,
      "outputs": [
        {
          "output_type": "stream",
          "name": "stdout",
          "text": [
            "================================\u001b[1m Human Message \u001b[0m=================================\n",
            "\n",
            "Add 40 and 12. Then multiply the result by 6.\n",
            "==================================\u001b[1m Ai Message \u001b[0m==================================\n",
            "Tool Calls:\n",
            "  addtion (438e071b-dd32-4805-a334-99ed4274f3ed)\n",
            " Call ID: 438e071b-dd32-4805-a334-99ed4274f3ed\n",
            "  Args:\n",
            "    a: 40.0\n",
            "    b: 12.0\n",
            "=================================\u001b[1m Tool Message \u001b[0m=================================\n",
            "Name: addtion\n",
            "\n",
            "52\n",
            "==================================\u001b[1m Ai Message \u001b[0m==================================\n",
            "Tool Calls:\n",
            "  multiplication (1d0aa336-e93a-4503-a620-07d0b807d289)\n",
            " Call ID: 1d0aa336-e93a-4503-a620-07d0b807d289\n",
            "  Args:\n",
            "    a: 52.0\n",
            "    b: 6.0\n",
            "=================================\u001b[1m Tool Message \u001b[0m=================================\n",
            "Name: multiplication\n",
            "\n",
            "312\n",
            "==================================\u001b[1m Ai Message \u001b[0m==================================\n",
            "\n",
            "The answer is 312.\n"
          ]
        }
      ]
    },
    {
      "cell_type": "code",
      "source": [
        "inputs = {\"messages\": [(\"user\", \"What is the University of Peradeniya?\")]}\n",
        "print_stream(app.stream(inputs, stream_mode=\"values\"))"
      ],
      "metadata": {
        "colab": {
          "base_uri": "https://localhost:8080/"
        },
        "id": "8X2ys_Hn07kE",
        "outputId": "cceb98af-a129-4168-b84e-81e55baf06b3"
      },
      "execution_count": 60,
      "outputs": [
        {
          "output_type": "stream",
          "name": "stdout",
          "text": [
            "================================\u001b[1m Human Message \u001b[0m=================================\n",
            "\n",
            "What is the Univercity of Peradeniya?\n",
            "==================================\u001b[1m Ai Message \u001b[0m==================================\n",
            "Tool Calls:\n",
            "  duckduckgo_search (06bcf788-b0a2-4899-b8ba-87ee1e3836db)\n",
            " Call ID: 06bcf788-b0a2-4899-b8ba-87ee1e3836db\n",
            "  Args:\n",
            "    query: University of Peradeniya\n",
            "=================================\u001b[1m Tool Message \u001b[0m=================================\n",
            "Name: duckduckgo_search\n",
            "\n",
            "The University of Peradeniya has expanded its operational capabilities with the recent acquisition of a backhoe loader machine, valued approximately at Rs. 24 million. This essential addition, funded by the Treasury, will support the university's extensive infrastructure needs across its 1700-acre premises. The official handover ceremony took ... The Department of Management Studies at the University of Peradeniya was established in 2002, with the aim of improving degree programmes with a management focus. Specific programmes that were expected to benefit included the B.Com degree programme and the management component of the BA (general) degree programme, which was under the Department ... The students of the batch 2018/2019 in the Department of Nursing, Faculty of Allied Health Sciences, University of Peradeniya successfully completed their community health training programme at the Regional Health Training Center (RHTC) in Kadugannwa from 2nd of May to 11th of May 2023. The University of Peradeniya ranked 2nd in Sri Lanka, 1879th in the global 2025 rating, and scored in the TOP 50% across 114 research topics. The University of Peradeniya ranking is based on 3 factors: research output (EduRank's index has 13,335 academic publications and 268,999 citations attributed to the university), non-academic reputation, and the impact of 11 notable alumni. Learn about the University of Peradeniya, a leading university in Sri Lanka with a rich history and diverse academic programs. Explore its scenic campus, historic landmarks, global recognition, and notable alumni.\n",
            "==================================\u001b[1m Ai Message \u001b[0m==================================\n",
            "\n",
            "The University of Peradeniya is a leading university in Sri Lanka, ranking 2nd in the country and 1879th globally in the 2025 rating. It is known for its diverse academic programs, scenic campus, and historical landmarks. The university has a strong research output, with over 13,000 academic publications. It has also recently acquired a backhoe loader machine to support its infrastructure needs across its 1700-acre premises.\n"
          ]
        }
      ]
    },
    {
      "cell_type": "code",
      "source": [
        "inputs = {\"messages\": [(\"user\", \"What is the current temperature in Colombo?\")]}\n",
        "print_stream(app.stream(inputs, stream_mode=\"values\"))"
      ],
      "metadata": {
        "colab": {
          "base_uri": "https://localhost:8080/"
        },
        "id": "7sgxplpF9ZwP",
        "outputId": "99dd14e2-5fd3-427e-aa71-d5cecd3ed837"
      },
      "execution_count": 61,
      "outputs": [
        {
          "output_type": "stream",
          "name": "stdout",
          "text": [
            "================================\u001b[1m Human Message \u001b[0m=================================\n",
            "\n",
            "What is the current temperature in Colombo?\n",
            "==================================\u001b[1m Ai Message \u001b[0m==================================\n",
            "Tool Calls:\n",
            "  open_weather_map (74818746-1912-4e3c-8eea-fdde2e9c81a9)\n",
            " Call ID: 74818746-1912-4e3c-8eea-fdde2e9c81a9\n",
            "  Args:\n",
            "    location: Colombo\n",
            "=================================\u001b[1m Tool Message \u001b[0m=================================\n",
            "Name: open_weather_map\n",
            "\n",
            "In Colombo, the current weather is as follows:\n",
            "Detailed status: overcast clouds\n",
            "Wind speed: 5.65 m/s, direction: 228°\n",
            "Humidity: 77%\n",
            "Temperature: \n",
            "  - Current: 28.91°C\n",
            "  - High: 28.97°C\n",
            "  - Low: 28.91°C\n",
            "  - Feels like: 33.87°C\n",
            "Rain: {}\n",
            "Heat index: None\n",
            "Cloud cover: 93%\n",
            "==================================\u001b[1m Ai Message \u001b[0m==================================\n",
            "\n",
            "The current temperature in Colombo is 28.91°C.\n"
          ]
        }
      ]
    }
  ]
}